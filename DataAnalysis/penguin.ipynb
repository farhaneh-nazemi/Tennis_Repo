{
 "cells": [
  {
   "cell_type": "markdown",
   "metadata": {},
   "source": [
    "## Importing pandas\n",
    "\n",
    "First, we need to import the `pandas` library. By convention, it is imported as `pd`."
   ]
  },
  {
   "cell_type": "code",
   "execution_count": 1,
   "metadata": {},
   "outputs": [],
   "source": [
    "import pandas as pd"
   ]
  },
  {
   "cell_type": "markdown",
   "metadata": {},
   "source": [
    "## Loading Data\n",
    "\n",
    "We will use CSV file and load the file into a DataFrame."
   ]
  },
  {
   "cell_type": "code",
   "execution_count": 2,
   "metadata": {},
   "outputs": [
    {
     "data": {
      "text/html": [
       "<div>\n",
       "<style scoped>\n",
       "    .dataframe tbody tr th:only-of-type {\n",
       "        vertical-align: middle;\n",
       "    }\n",
       "\n",
       "    .dataframe tbody tr th {\n",
       "        vertical-align: top;\n",
       "    }\n",
       "\n",
       "    .dataframe thead th {\n",
       "        text-align: right;\n",
       "    }\n",
       "</style>\n",
       "<table border=\"1\" class=\"dataframe\">\n",
       "  <thead>\n",
       "    <tr style=\"text-align: right;\">\n",
       "      <th></th>\n",
       "      <th>species</th>\n",
       "      <th>island</th>\n",
       "      <th>culmen_length_mm</th>\n",
       "      <th>culmen_depth_mm</th>\n",
       "      <th>flipper_length_mm</th>\n",
       "      <th>body_mass_g</th>\n",
       "      <th>sex</th>\n",
       "    </tr>\n",
       "  </thead>\n",
       "  <tbody>\n",
       "    <tr>\n",
       "      <th>0</th>\n",
       "      <td>Adelie</td>\n",
       "      <td>Torgersen</td>\n",
       "      <td>39.1</td>\n",
       "      <td>18.7</td>\n",
       "      <td>181.0</td>\n",
       "      <td>3750.0</td>\n",
       "      <td>MALE</td>\n",
       "    </tr>\n",
       "    <tr>\n",
       "      <th>1</th>\n",
       "      <td>Adelie</td>\n",
       "      <td>Torgersen</td>\n",
       "      <td>39.5</td>\n",
       "      <td>17.4</td>\n",
       "      <td>186.0</td>\n",
       "      <td>3800.0</td>\n",
       "      <td>FEMALE</td>\n",
       "    </tr>\n",
       "    <tr>\n",
       "      <th>2</th>\n",
       "      <td>Adelie</td>\n",
       "      <td>Torgersen</td>\n",
       "      <td>40.3</td>\n",
       "      <td>18.0</td>\n",
       "      <td>195.0</td>\n",
       "      <td>3250.0</td>\n",
       "      <td>FEMALE</td>\n",
       "    </tr>\n",
       "    <tr>\n",
       "      <th>3</th>\n",
       "      <td>Adelie</td>\n",
       "      <td>Torgersen</td>\n",
       "      <td>NaN</td>\n",
       "      <td>NaN</td>\n",
       "      <td>NaN</td>\n",
       "      <td>NaN</td>\n",
       "      <td>NaN</td>\n",
       "    </tr>\n",
       "    <tr>\n",
       "      <th>4</th>\n",
       "      <td>Adelie</td>\n",
       "      <td>Torgersen</td>\n",
       "      <td>36.7</td>\n",
       "      <td>19.3</td>\n",
       "      <td>193.0</td>\n",
       "      <td>3450.0</td>\n",
       "      <td>FEMALE</td>\n",
       "    </tr>\n",
       "    <tr>\n",
       "      <th>...</th>\n",
       "      <td>...</td>\n",
       "      <td>...</td>\n",
       "      <td>...</td>\n",
       "      <td>...</td>\n",
       "      <td>...</td>\n",
       "      <td>...</td>\n",
       "      <td>...</td>\n",
       "    </tr>\n",
       "    <tr>\n",
       "      <th>339</th>\n",
       "      <td>Gentoo</td>\n",
       "      <td>Biscoe</td>\n",
       "      <td>NaN</td>\n",
       "      <td>NaN</td>\n",
       "      <td>NaN</td>\n",
       "      <td>NaN</td>\n",
       "      <td>NaN</td>\n",
       "    </tr>\n",
       "    <tr>\n",
       "      <th>340</th>\n",
       "      <td>Gentoo</td>\n",
       "      <td>Biscoe</td>\n",
       "      <td>46.8</td>\n",
       "      <td>14.3</td>\n",
       "      <td>215.0</td>\n",
       "      <td>4850.0</td>\n",
       "      <td>FEMALE</td>\n",
       "    </tr>\n",
       "    <tr>\n",
       "      <th>341</th>\n",
       "      <td>Gentoo</td>\n",
       "      <td>Biscoe</td>\n",
       "      <td>50.4</td>\n",
       "      <td>15.7</td>\n",
       "      <td>222.0</td>\n",
       "      <td>5750.0</td>\n",
       "      <td>MALE</td>\n",
       "    </tr>\n",
       "    <tr>\n",
       "      <th>342</th>\n",
       "      <td>Gentoo</td>\n",
       "      <td>Biscoe</td>\n",
       "      <td>45.2</td>\n",
       "      <td>14.8</td>\n",
       "      <td>212.0</td>\n",
       "      <td>5200.0</td>\n",
       "      <td>FEMALE</td>\n",
       "    </tr>\n",
       "    <tr>\n",
       "      <th>343</th>\n",
       "      <td>Gentoo</td>\n",
       "      <td>Biscoe</td>\n",
       "      <td>49.9</td>\n",
       "      <td>16.1</td>\n",
       "      <td>213.0</td>\n",
       "      <td>5400.0</td>\n",
       "      <td>MALE</td>\n",
       "    </tr>\n",
       "  </tbody>\n",
       "</table>\n",
       "<p>344 rows × 7 columns</p>\n",
       "</div>"
      ],
      "text/plain": [
       "    species     island  culmen_length_mm  culmen_depth_mm  flipper_length_mm  \\\n",
       "0    Adelie  Torgersen              39.1             18.7              181.0   \n",
       "1    Adelie  Torgersen              39.5             17.4              186.0   \n",
       "2    Adelie  Torgersen              40.3             18.0              195.0   \n",
       "3    Adelie  Torgersen               NaN              NaN                NaN   \n",
       "4    Adelie  Torgersen              36.7             19.3              193.0   \n",
       "..      ...        ...               ...              ...                ...   \n",
       "339  Gentoo     Biscoe               NaN              NaN                NaN   \n",
       "340  Gentoo     Biscoe              46.8             14.3              215.0   \n",
       "341  Gentoo     Biscoe              50.4             15.7              222.0   \n",
       "342  Gentoo     Biscoe              45.2             14.8              212.0   \n",
       "343  Gentoo     Biscoe              49.9             16.1              213.0   \n",
       "\n",
       "     body_mass_g     sex  \n",
       "0         3750.0    MALE  \n",
       "1         3800.0  FEMALE  \n",
       "2         3250.0  FEMALE  \n",
       "3            NaN     NaN  \n",
       "4         3450.0  FEMALE  \n",
       "..           ...     ...  \n",
       "339          NaN     NaN  \n",
       "340       4850.0  FEMALE  \n",
       "341       5750.0    MALE  \n",
       "342       5200.0  FEMALE  \n",
       "343       5400.0    MALE  \n",
       "\n",
       "[344 rows x 7 columns]"
      ]
     },
     "execution_count": 2,
     "metadata": {},
     "output_type": "execute_result"
    }
   ],
   "source": [
    "pengiuns_df=pd.read_csv('datafiles/penguins_size.csv')\n",
    "pengiuns_df"
   ]
  },
  {
   "cell_type": "code",
   "execution_count": 3,
   "metadata": {},
   "outputs": [
    {
     "name": "stdout",
     "output_type": "stream",
     "text": [
      "Shape of the DataFrame: (344, 7)\n",
      "Number of rows: 344\n",
      "Number of columns: 7\n"
     ]
    }
   ],
   "source": [
    "shape=pengiuns_df.shape\n",
    "print(\"Shape of the DataFrame:\", shape)\n",
    "print(\"Number of rows:\", shape[0])\n",
    "print(\"Number of columns:\", shape[1])\n"
   ]
  },
  {
   "cell_type": "code",
   "execution_count": 4,
   "metadata": {},
   "outputs": [
    {
     "name": "stdout",
     "output_type": "stream",
     "text": [
      "<class 'pandas.core.frame.DataFrame'>\n",
      "RangeIndex: 344 entries, 0 to 343\n",
      "Data columns (total 7 columns):\n",
      " #   Column             Non-Null Count  Dtype  \n",
      "---  ------             --------------  -----  \n",
      " 0   species            344 non-null    object \n",
      " 1   island             344 non-null    object \n",
      " 2   culmen_length_mm   342 non-null    float64\n",
      " 3   culmen_depth_mm    342 non-null    float64\n",
      " 4   flipper_length_mm  342 non-null    float64\n",
      " 5   body_mass_g        342 non-null    float64\n",
      " 6   sex                334 non-null    object \n",
      "dtypes: float64(4), object(3)\n",
      "memory usage: 18.9+ KB\n"
     ]
    }
   ],
   "source": [
    "pengiuns_df.info()"
   ]
  },
  {
   "cell_type": "code",
   "execution_count": 5,
   "metadata": {},
   "outputs": [
    {
     "name": "stdout",
     "output_type": "stream",
     "text": [
      "Count of each unique species:\n"
     ]
    },
    {
     "data": {
      "text/plain": [
       "array(['Adelie', 'Chinstrap', 'Gentoo'], dtype=object)"
      ]
     },
     "execution_count": 5,
     "metadata": {},
     "output_type": "execute_result"
    }
   ],
   "source": [
    "# species_counts=pengiuns_df['species'].value_counts()\n",
    "species_counts=pengiuns_df['species'].unique()\n",
    "print(\"Count of each unique species:\")\n",
    "species_counts"
   ]
  },
  {
   "cell_type": "code",
   "execution_count": 6,
   "metadata": {},
   "outputs": [
    {
     "name": "stdout",
     "output_type": "stream",
     "text": [
      "Number of NaN values per column:\n"
     ]
    },
    {
     "data": {
      "text/plain": [
       "species               0\n",
       "island                0\n",
       "culmen_length_mm      2\n",
       "culmen_depth_mm       2\n",
       "flipper_length_mm     2\n",
       "body_mass_g           2\n",
       "sex                  10\n",
       "dtype: int64"
      ]
     },
     "execution_count": 6,
     "metadata": {},
     "output_type": "execute_result"
    }
   ],
   "source": [
    "nan_counts=pengiuns_df.isna().sum()\n",
    "print(\"Number of NaN values per column:\")\n",
    "nan_counts"
   ]
  },
  {
   "cell_type": "code",
   "execution_count": 7,
   "metadata": {},
   "outputs": [
    {
     "name": "stdout",
     "output_type": "stream",
     "text": [
      "culmen_depth_mm for each island:\n"
     ]
    },
    {
     "data": {
      "text/html": [
       "<div>\n",
       "<style scoped>\n",
       "    .dataframe tbody tr th:only-of-type {\n",
       "        vertical-align: middle;\n",
       "    }\n",
       "\n",
       "    .dataframe tbody tr th {\n",
       "        vertical-align: top;\n",
       "    }\n",
       "\n",
       "    .dataframe thead th {\n",
       "        text-align: right;\n",
       "    }\n",
       "</style>\n",
       "<table border=\"1\" class=\"dataframe\">\n",
       "  <thead>\n",
       "    <tr style=\"text-align: right;\">\n",
       "      <th></th>\n",
       "      <th>count</th>\n",
       "      <th>mean</th>\n",
       "      <th>std</th>\n",
       "      <th>min</th>\n",
       "      <th>25%</th>\n",
       "      <th>50%</th>\n",
       "      <th>75%</th>\n",
       "      <th>max</th>\n",
       "    </tr>\n",
       "    <tr>\n",
       "      <th>island</th>\n",
       "      <th></th>\n",
       "      <th></th>\n",
       "      <th></th>\n",
       "      <th></th>\n",
       "      <th></th>\n",
       "      <th></th>\n",
       "      <th></th>\n",
       "      <th></th>\n",
       "    </tr>\n",
       "  </thead>\n",
       "  <tbody>\n",
       "    <tr>\n",
       "      <th>Biscoe</th>\n",
       "      <td>167.0</td>\n",
       "      <td>15.874850</td>\n",
       "      <td>1.820721</td>\n",
       "      <td>13.1</td>\n",
       "      <td>14.50</td>\n",
       "      <td>15.5</td>\n",
       "      <td>17.00</td>\n",
       "      <td>21.1</td>\n",
       "    </tr>\n",
       "    <tr>\n",
       "      <th>Dream</th>\n",
       "      <td>124.0</td>\n",
       "      <td>18.344355</td>\n",
       "      <td>1.133116</td>\n",
       "      <td>15.5</td>\n",
       "      <td>17.50</td>\n",
       "      <td>18.4</td>\n",
       "      <td>19.00</td>\n",
       "      <td>21.2</td>\n",
       "    </tr>\n",
       "    <tr>\n",
       "      <th>Torgersen</th>\n",
       "      <td>51.0</td>\n",
       "      <td>18.429412</td>\n",
       "      <td>1.339447</td>\n",
       "      <td>15.9</td>\n",
       "      <td>17.35</td>\n",
       "      <td>18.4</td>\n",
       "      <td>19.25</td>\n",
       "      <td>21.5</td>\n",
       "    </tr>\n",
       "  </tbody>\n",
       "</table>\n",
       "</div>"
      ],
      "text/plain": [
       "           count       mean       std   min    25%   50%    75%   max\n",
       "island                                                               \n",
       "Biscoe     167.0  15.874850  1.820721  13.1  14.50  15.5  17.00  21.1\n",
       "Dream      124.0  18.344355  1.133116  15.5  17.50  18.4  19.00  21.2\n",
       "Torgersen   51.0  18.429412  1.339447  15.9  17.35  18.4  19.25  21.5"
      ]
     },
     "execution_count": 7,
     "metadata": {},
     "output_type": "execute_result"
    }
   ],
   "source": [
    "culmen_depth_summary=pengiuns_df.groupby(['island'])['culmen_depth_mm'].describe()\n",
    "print(\"culmen_depth_mm for each island:\")\n",
    "culmen_depth_summary"
   ]
  },
  {
   "cell_type": "code",
   "execution_count": 8,
   "metadata": {},
   "outputs": [
    {
     "data": {
      "text/html": [
       "<div>\n",
       "<style scoped>\n",
       "    .dataframe tbody tr th:only-of-type {\n",
       "        vertical-align: middle;\n",
       "    }\n",
       "\n",
       "    .dataframe tbody tr th {\n",
       "        vertical-align: top;\n",
       "    }\n",
       "\n",
       "    .dataframe thead th {\n",
       "        text-align: right;\n",
       "    }\n",
       "</style>\n",
       "<table border=\"1\" class=\"dataframe\">\n",
       "  <thead>\n",
       "    <tr style=\"text-align: right;\">\n",
       "      <th></th>\n",
       "      <th>min</th>\n",
       "      <th>max</th>\n",
       "      <th>mean</th>\n",
       "      <th>median</th>\n",
       "    </tr>\n",
       "    <tr>\n",
       "      <th>sex</th>\n",
       "      <th></th>\n",
       "      <th></th>\n",
       "      <th></th>\n",
       "      <th></th>\n",
       "    </tr>\n",
       "  </thead>\n",
       "  <tbody>\n",
       "    <tr>\n",
       "      <th>.</th>\n",
       "      <td>4875.0</td>\n",
       "      <td>4875.0</td>\n",
       "      <td>4875.000000</td>\n",
       "      <td>4875.0</td>\n",
       "    </tr>\n",
       "    <tr>\n",
       "      <th>FEMALE</th>\n",
       "      <td>2700.0</td>\n",
       "      <td>5200.0</td>\n",
       "      <td>3862.272727</td>\n",
       "      <td>3650.0</td>\n",
       "    </tr>\n",
       "    <tr>\n",
       "      <th>MALE</th>\n",
       "      <td>3250.0</td>\n",
       "      <td>6300.0</td>\n",
       "      <td>4545.684524</td>\n",
       "      <td>4300.0</td>\n",
       "    </tr>\n",
       "  </tbody>\n",
       "</table>\n",
       "</div>"
      ],
      "text/plain": [
       "           min     max         mean  median\n",
       "sex                                        \n",
       ".       4875.0  4875.0  4875.000000  4875.0\n",
       "FEMALE  2700.0  5200.0  3862.272727  3650.0\n",
       "MALE    3250.0  6300.0  4545.684524  4300.0"
      ]
     },
     "execution_count": 8,
     "metadata": {},
     "output_type": "execute_result"
    }
   ],
   "source": [
    "pengiuns_df.groupby(['sex'])['body_mass_g'].aggregate(['min', 'max', 'mean', 'median'])"
   ]
  },
  {
   "cell_type": "code",
   "execution_count": 9,
   "metadata": {},
   "outputs": [
    {
     "data": {
      "text/html": [
       "<div>\n",
       "<style scoped>\n",
       "    .dataframe tbody tr th:only-of-type {\n",
       "        vertical-align: middle;\n",
       "    }\n",
       "\n",
       "    .dataframe tbody tr th {\n",
       "        vertical-align: top;\n",
       "    }\n",
       "\n",
       "    .dataframe thead th {\n",
       "        text-align: right;\n",
       "    }\n",
       "</style>\n",
       "<table border=\"1\" class=\"dataframe\">\n",
       "  <thead>\n",
       "    <tr style=\"text-align: right;\">\n",
       "      <th>species</th>\n",
       "      <th>Adelie</th>\n",
       "      <th>Chinstrap</th>\n",
       "      <th>Gentoo</th>\n",
       "    </tr>\n",
       "    <tr>\n",
       "      <th>island</th>\n",
       "      <th></th>\n",
       "      <th></th>\n",
       "      <th></th>\n",
       "    </tr>\n",
       "  </thead>\n",
       "  <tbody>\n",
       "    <tr>\n",
       "      <th>Biscoe</th>\n",
       "      <td>44</td>\n",
       "      <td>0</td>\n",
       "      <td>124</td>\n",
       "    </tr>\n",
       "    <tr>\n",
       "      <th>Dream</th>\n",
       "      <td>56</td>\n",
       "      <td>68</td>\n",
       "      <td>0</td>\n",
       "    </tr>\n",
       "    <tr>\n",
       "      <th>Torgersen</th>\n",
       "      <td>52</td>\n",
       "      <td>0</td>\n",
       "      <td>0</td>\n",
       "    </tr>\n",
       "  </tbody>\n",
       "</table>\n",
       "</div>"
      ],
      "text/plain": [
       "species    Adelie  Chinstrap  Gentoo\n",
       "island                              \n",
       "Biscoe         44          0     124\n",
       "Dream          56         68       0\n",
       "Torgersen      52          0       0"
      ]
     },
     "execution_count": 9,
     "metadata": {},
     "output_type": "execute_result"
    }
   ],
   "source": [
    "pengiuns_df.groupby(['island', 'species']).size().unstack(fill_value=0)"
   ]
  },
  {
   "cell_type": "code",
   "execution_count": 10,
   "metadata": {},
   "outputs": [
    {
     "name": "stdout",
     "output_type": "stream",
     "text": [
      "Share of female penguins in each species (in %):\n"
     ]
    },
    {
     "data": {
      "text/plain": [
       "species\n",
       "Adelie       48.026316\n",
       "Chinstrap    50.000000\n",
       "Gentoo       46.774194\n",
       "dtype: float64"
      ]
     },
     "execution_count": 10,
     "metadata": {},
     "output_type": "execute_result"
    }
   ],
   "source": [
    "female_mask = pengiuns_df['sex'] == 'FEMALE'\n",
    "female_penguins = pengiuns_df[female_mask]\n",
    "female_counts = female_penguins.groupby('species').size()\n",
    "total_counts = pengiuns_df.groupby('species').size()\n",
    "# Calculate the share of female penguins in each species\n",
    "female_share = (female_counts / total_counts) * 100\n",
    "print(\"Share of female penguins in each species (in %):\")\n",
    "female_share"
   ]
  },
  {
   "cell_type": "code",
   "execution_count": 11,
   "metadata": {},
   "outputs": [
    {
     "name": "stdout",
     "output_type": "stream",
     "text": [
      "Flipper length comparisons between species (min, max, mean):\n"
     ]
    },
    {
     "data": {
      "text/html": [
       "<div>\n",
       "<style scoped>\n",
       "    .dataframe tbody tr th:only-of-type {\n",
       "        vertical-align: middle;\n",
       "    }\n",
       "\n",
       "    .dataframe tbody tr th {\n",
       "        vertical-align: top;\n",
       "    }\n",
       "\n",
       "    .dataframe thead th {\n",
       "        text-align: right;\n",
       "    }\n",
       "</style>\n",
       "<table border=\"1\" class=\"dataframe\">\n",
       "  <thead>\n",
       "    <tr style=\"text-align: right;\">\n",
       "      <th></th>\n",
       "      <th>min</th>\n",
       "      <th>max</th>\n",
       "      <th>mean</th>\n",
       "    </tr>\n",
       "    <tr>\n",
       "      <th>species</th>\n",
       "      <th></th>\n",
       "      <th></th>\n",
       "      <th></th>\n",
       "    </tr>\n",
       "  </thead>\n",
       "  <tbody>\n",
       "    <tr>\n",
       "      <th>Adelie</th>\n",
       "      <td>172.0</td>\n",
       "      <td>210.0</td>\n",
       "      <td>189.953642</td>\n",
       "    </tr>\n",
       "    <tr>\n",
       "      <th>Chinstrap</th>\n",
       "      <td>178.0</td>\n",
       "      <td>212.0</td>\n",
       "      <td>195.823529</td>\n",
       "    </tr>\n",
       "    <tr>\n",
       "      <th>Gentoo</th>\n",
       "      <td>203.0</td>\n",
       "      <td>231.0</td>\n",
       "      <td>217.186992</td>\n",
       "    </tr>\n",
       "  </tbody>\n",
       "</table>\n",
       "</div>"
      ],
      "text/plain": [
       "             min    max        mean\n",
       "species                            \n",
       "Adelie     172.0  210.0  189.953642\n",
       "Chinstrap  178.0  212.0  195.823529\n",
       "Gentoo     203.0  231.0  217.186992"
      ]
     },
     "execution_count": 11,
     "metadata": {},
     "output_type": "execute_result"
    }
   ],
   "source": [
    "flipper_length_comparisons=pengiuns_df.groupby('species')['flipper_length_mm'].aggregate(['min', 'max', 'mean'])\n",
    "print(\"Flipper length comparisons between species (min, max, mean):\")\n",
    "flipper_length_comparisons"
   ]
  },
  {
   "cell_type": "code",
   "execution_count": 32,
   "metadata": {},
   "outputs": [
    {
     "name": "stdout",
     "output_type": "stream",
     "text": [
      "<class 'pandas.core.frame.DataFrame'>\n",
      "RangeIndex: 1 entries, 0 to 0\n",
      "Data columns (total 18 columns):\n",
      " #   Column         Non-Null Count  Dtype  \n",
      "---  ------         --------------  -----  \n",
      " 0   match_id       1 non-null      int64  \n",
      " 1   name           1 non-null      object \n",
      " 2   slug           1 non-null      object \n",
      " 3   gender         1 non-null      object \n",
      " 4   user_count     1 non-null      int64  \n",
      " 5   residence      1 non-null      object \n",
      " 6   birthplace     1 non-null      object \n",
      " 7   height         1 non-null      float64\n",
      " 8   weight         1 non-null      int64  \n",
      " 9   plays          1 non-null      object \n",
      " 10  turned_pro     0 non-null      object \n",
      " 11  current_prize  1 non-null      int64  \n",
      " 12  total_prize    1 non-null      int64  \n",
      " 13  player_id      1 non-null      int64  \n",
      " 14  current_rank   1 non-null      int64  \n",
      " 15  name_code      1 non-null      object \n",
      " 16  country        1 non-null      object \n",
      " 17  full_name      1 non-null      object \n",
      "dtypes: float64(1), int64(7), object(10)\n",
      "memory usage: 272.0+ bytes\n"
     ]
    }
   ],
   "source": [
    "par1_df=pd.read_parquet('datafiles/away_team_12260075.parquet', engine='pyarrow')\n",
    "par1_df.info()"
   ]
  },
  {
   "cell_type": "code",
   "execution_count": 25,
   "metadata": {},
   "outputs": [
    {
     "name": "stderr",
     "output_type": "stream",
     "text": [
      "/tmp/ipykernel_1065/4267389943.py:11: FutureWarning: The behavior of DataFrame concatenation with empty or all-NA entries is deprecated. In a future version, this will no longer exclude empty or all-NA columns when determining the result dtypes. To retain the old behavior, exclude the relevant entries before the concat operation.\n",
      "  combined_df = pd.concat(par_df, ignore_index=True)\n"
     ]
    }
   ],
   "source": [
    "folder_path = 'datafiles/raw_match_parquet'\n",
    "import os\n",
    "par_df = []\n",
    "\n",
    "for file in os.listdir(folder_path):\n",
    "    if file.endswith('.parquet'):\n",
    "        # Read the Parquet file into a DataFrame\n",
    "        df = pd.read_parquet(os.path.join(folder_path, file))\n",
    "        par_df.append(df)\n",
    "combined_df = pd.concat(par_df, ignore_index=True)"
   ]
  },
  {
   "cell_type": "code",
   "execution_count": 28,
   "metadata": {},
   "outputs": [
    {
     "name": "stdout",
     "output_type": "stream",
     "text": [
      "<class 'pandas.core.frame.DataFrame'>\n",
      "RangeIndex: 5740 entries, 0 to 5739\n",
      "Data columns (total 62 columns):\n",
      " #   Column                           Non-Null Count  Dtype  \n",
      "---  ------                           --------------  -----  \n",
      " 0   match_id                         5740 non-null   int64  \n",
      " 1   period_1                         1712 non-null   float64\n",
      " 2   period_2                         1693 non-null   float64\n",
      " 3   period_3                         452 non-null    float64\n",
      " 4   period_4                         0 non-null      object \n",
      " 5   period_5                         0 non-null      object \n",
      " 6   current_period_start_timestamp   568 non-null    float64\n",
      " 7   current_score                    1154 non-null   float64\n",
      " 8   display_score                    1154 non-null   float64\n",
      " 9   period_1_tie_break               100 non-null    float64\n",
      " 10  period_2_tie_break               88 non-null     float64\n",
      " 11  period_3_tie_break               24 non-null     float64\n",
      " 12  period_4_tie_break               0 non-null      object \n",
      " 13  period_5_tie_break               0 non-null      object \n",
      " 14  normal_time                      0 non-null      object \n",
      " 15  round_id                         567 non-null    float64\n",
      " 16  name                             2174 non-null   object \n",
      " 17  slug                             1579 non-null   object \n",
      " 18  cup_round_type                   567 non-null    float64\n",
      " 19  city                             591 non-null    object \n",
      " 20  stadium                          591 non-null    object \n",
      " 21  venue_id                         591 non-null    float64\n",
      " 22  country                          1603 non-null   object \n",
      " 23  season_id                        595 non-null    float64\n",
      " 24  year                             595 non-null    float64\n",
      " 25  tournament_id                    595 non-null    float64\n",
      " 26  tournament_name                  595 non-null    object \n",
      " 27  tournament_slug                  595 non-null    object \n",
      " 28  tournament_unique_id             0 non-null      object \n",
      " 29  tournament_category_name         595 non-null    object \n",
      " 30  tournament_category_slug         595 non-null    object \n",
      " 31  user_count                       1607 non-null   float64\n",
      " 32  ground_type                      595 non-null    object \n",
      " 33  tennis_points                    70 non-null     float64\n",
      " 34  has_event_player_statistics      595 non-null    object \n",
      " 35  crowd_sourcing_enabled           595 non-null    object \n",
      " 36  has_performance_graph_feature    595 non-null    object \n",
      " 37  display_inverse_home_away_teams  595 non-null    object \n",
      " 38  priority                         595 non-null    float64\n",
      " 39  competition_type                 595 non-null    float64\n",
      " 40  first_to_serve                   564 non-null    float64\n",
      " 41  home_team_seed                   68 non-null     object \n",
      " 42  away_team_seed                   62 non-null     object \n",
      " 43  custom_id                        595 non-null    object \n",
      " 44  winner_code                      579 non-null    float64\n",
      " 45  default_period_count             595 non-null    float64\n",
      " 46  start_datetime                   595 non-null    float64\n",
      " 47  match_slug                       595 non-null    object \n",
      " 48  final_result_only                595 non-null    object \n",
      " 49  gender                           1009 non-null   object \n",
      " 50  residence                        234 non-null    object \n",
      " 51  birthplace                       502 non-null    object \n",
      " 52  height                           488 non-null    float64\n",
      " 53  weight                           222 non-null    float64\n",
      " 54  plays                            459 non-null    object \n",
      " 55  turned_pro                       165 non-null    object \n",
      " 56  current_prize                    1009 non-null   float64\n",
      " 57  total_prize                      1012 non-null   float64\n",
      " 58  player_id                        1012 non-null   float64\n",
      " 59  current_rank                     1003 non-null   float64\n",
      " 60  name_code                        1012 non-null   object \n",
      " 61  full_name                        1012 non-null   object \n",
      "dtypes: float64(29), int64(1), object(32)\n",
      "memory usage: 2.7+ MB\n"
     ]
    }
   ],
   "source": [
    "combined_df.info()"
   ]
  }
 ],
 "metadata": {
  "kernelspec": {
   "display_name": ".venv",
   "language": "python",
   "name": "python3"
  },
  "language_info": {
   "codemirror_mode": {
    "name": "ipython",
    "version": 3
   },
   "file_extension": ".py",
   "mimetype": "text/x-python",
   "name": "python",
   "nbconvert_exporter": "python",
   "pygments_lexer": "ipython3",
   "version": "3.10.12"
  }
 },
 "nbformat": 4,
 "nbformat_minor": 2
}
