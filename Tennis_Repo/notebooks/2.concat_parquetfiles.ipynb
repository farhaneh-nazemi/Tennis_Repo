{
 "cells": [
  {
   "cell_type": "markdown",
   "metadata": {},
   "source": [
    "## Concatenate Parquet Files\n",
    "\n",
    "This script processes and concatenates Parquet files from a specified directory into consolidated tables and saves them in a new directory.\n",
    "\n",
    "1. The __get_table_name__ function is designed to extract the base table name from a given Parquet file name using a regular expression.\n",
    "2. The __concat_parquet_files__ function is designed to read multiple Parquet files from a specified directory structure, group them by their base table names, and concatenate them into single DataFrames for each table.\n",
    "3. The concatenated DataFrames are being stored in Parquet files to assist in answering the questions.\n"
   ]
  },
  {
   "cell_type": "code",
   "execution_count": 1,
   "metadata": {},
   "outputs": [
    {
     "name": "stderr",
     "output_type": "stream",
     "text": [
      "/tmp/ipykernel_14434/3899028717.py:29: FutureWarning: The behavior of DataFrame concatenation with empty or all-NA entries is deprecated. In a future version, this will no longer exclude empty or all-NA columns when determining the result dtypes. To retain the old behavior, exclude the relevant entries before the concat operation.\n",
      "  concatenated_tables[table_name] = pd.concat(dfs, ignore_index=True)\n",
      "/tmp/ipykernel_14434/3899028717.py:29: FutureWarning: The behavior of DataFrame concatenation with empty or all-NA entries is deprecated. In a future version, this will no longer exclude empty or all-NA columns when determining the result dtypes. To retain the old behavior, exclude the relevant entries before the concat operation.\n",
      "  concatenated_tables[table_name] = pd.concat(dfs, ignore_index=True)\n"
     ]
    },
    {
     "name": "stdout",
     "output_type": "stream",
     "text": [
      "Concatenation complete.\n"
     ]
    }
   ],
   "source": [
    "import os\n",
    "import pandas as pd\n",
    "import re\n",
    "\n",
    "def get_table_name(file_name):\n",
    "    # Regex to match the table name, capturing everything before the last underscore followed by digits\n",
    "    match = re.match(r\"(.+)_\\d+\\.parquet$\", file_name)\n",
    "    if match:\n",
    "        return match.group(1)\n",
    "    else:\n",
    "        raise ValueError(f\"Filename {file_name} does not match expected pattern\")\n",
    "\n",
    "def concat_parquet_files(base_dir):\n",
    "    table_data = {}\n",
    "    # Walk through the extracted files\n",
    "    for root, dirs, files in os.walk(base_dir):\n",
    "        for file in files:\n",
    "            if file.endswith(\".parquet\"):\n",
    "                table_name = get_table_name(file)  # Get the table name using the regex function\n",
    "                file_path = os.path.join(root, file)\n",
    "                if table_name not in table_data:\n",
    "                    table_data[table_name] = []\n",
    "                table_data[table_name].append(file_path)\n",
    "\n",
    "    # Concatenate parquet files for each table\n",
    "    concatenated_tables = {}\n",
    "    for table_name, file_paths in table_data.items():\n",
    "        dfs = [pd.read_parquet(fp) for fp in file_paths]\n",
    "        concatenated_tables[table_name] = pd.concat(dfs, ignore_index=True)\n",
    "\n",
    "    return concatenated_tables\n",
    "\n",
    "# Concatenate parquet files\n",
    "extraction_directory = os.path.join(\"..\", \"data\", \"interim\",\"extracted_data\")\n",
    "concatenated_directory = os.path.join(\"..\", \"data\", \"processed\",\"concatenated_data\")\n",
    "tables = concat_parquet_files(extraction_directory)\n",
    "\n",
    "# Save concatenated tables\n",
    "for table_name, df in tables.items():\n",
    "    df.to_parquet(f'{concatenated_directory}/{table_name}_concatenated.parquet')\n",
    "\n",
    "print(\"Concatenation complete.\")"
   ]
  }
 ],
 "metadata": {
  "kernelspec": {
   "display_name": ".venv",
   "language": "python",
   "name": "python3"
  },
  "language_info": {
   "codemirror_mode": {
    "name": "ipython",
    "version": 3
   },
   "file_extension": ".py",
   "mimetype": "text/x-python",
   "name": "python",
   "nbconvert_exporter": "python",
   "pygments_lexer": "ipython3",
   "version": "3.10.12"
  }
 },
 "nbformat": 4,
 "nbformat_minor": 2
}
