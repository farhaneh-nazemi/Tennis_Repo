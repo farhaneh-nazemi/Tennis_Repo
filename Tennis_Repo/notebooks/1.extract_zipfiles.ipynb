{
 "cells": [
  {
   "cell_type": "markdown",
   "metadata": {},
   "source": [
    "## Extract Zip Files\n",
    "\n",
    "This script extract all zip files from a specified directory into a target directory with same name."
   ]
  },
  {
   "cell_type": "code",
   "execution_count": 9,
   "metadata": {},
   "outputs": [],
   "source": [
    "import os\n",
    "import zipfile\n",
    "\n",
    "def extract_zip_files(zip_dir, extract_to):\n",
    "    # Extract all zip files in the given directory\n",
    "    for zip_file in os.listdir(zip_dir):\n",
    "        if zip_file.endswith(\".zip\"):\n",
    "            zip_file_path = os.path.join(zip_dir, zip_file)\n",
    "            extract_folder = os.path.join(extract_to, os.path.splitext(zip_file)[0])\n",
    "            os.makedirs(extract_folder, exist_ok=True)\n",
    "            with zipfile.ZipFile(zip_file_path, 'r') as z:\n",
    "                z.extractall(extract_folder)\n",
    "\n",
    "# Define directories\n",
    "zip_directory = os.path.join(\"..\", \"data\", \"raw\", \"zip_files\")\n",
    "extraction_directory = os.path.join(\"..\", \"data\", \"interim\",\"extracted_data\")\n",
    "\n",
    "# Call method (Extract zip files)\n",
    "extract_zip_files(zip_directory, extraction_directory)"
   ]
  }
 ],
 "metadata": {
  "kernelspec": {
   "display_name": ".venv",
   "language": "python",
   "name": "python3"
  },
  "language_info": {
   "codemirror_mode": {
    "name": "ipython",
    "version": 3
   },
   "file_extension": ".py",
   "mimetype": "text/x-python",
   "name": "python",
   "nbconvert_exporter": "python",
   "pygments_lexer": "ipython3",
   "version": "3.10.12"
  }
 },
 "nbformat": 4,
 "nbformat_minor": 2
}
